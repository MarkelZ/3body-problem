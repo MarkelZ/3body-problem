{
 "cells": [
  {
   "cell_type": "markdown",
   "metadata": {},
   "source": [
    "# Local Search\n",
    "\n",
    "<ul id=\"top\">\n",
    "<li><a href=\"#Imports\"> \n",
    "             Imports</a></li>\n",
    "<li><a href=\"#Description-of-the-approach\"> \n",
    "             Description of the approach</a></li>\n",
    "</ul>\n",
    "\n",
    "## Imports"
   ]
  },
  {
   "cell_type": "code",
   "execution_count": 1,
   "metadata": {},
   "outputs": [],
   "source": [
    "using LinearAlgebra\n",
    "using Plots \n",
    "using OrdinaryDiffEq\n",
    "using Optim\n",
    "\n",
    "include(\"src/IRK8.jl\")\n",
    "include(\"src/3body.jl\");"
   ]
  },
  {
   "cell_type": "markdown",
   "metadata": {},
   "source": [
    "## Description of the approach\n",
    "\n",
    "Our task is to find different three body choreographies. We will pose it as an optimization problem. The search space is the space of all $u(\\tau)$ curves that satisfy the equations of motion of Newton's universal law of gravitation. The objective function will determine the \"choreographyness\" of a curve, and a local search will be performed using said function.\n",
    "\n",
    "## Encoding the candidate solutions\n",
    "\n",
    "A solution to the ODEs $u$ can be represented by its initial state $u_0$. The dimensionality of the search space can be reduced in many ways, such as taking translational symmetry into account. An in-depth explanation can be found in the thesis. The initial state is encoded in two different ways, by $\\psi_3$ and by $\\psi_5$:\n",
    "\\begin{align*} \n",
    "\\psi_3(a, b, \\gamma) = (-2&a, 0, a, b, a, -b, \\\\\n",
    "    &0, \\frac{\\rho}{-2\\sqrt3} \\sin(\\gamma), \\rho \\cos(\\gamma), \\frac{\\rho}{\\sqrt3 \\sin(\\gamma)}, -\\rho \\cos(\\gamma), \\frac{\\rho}{\\sqrt3 \\sin(\\gamma)})\n",
    "\\end{align*}\n",
    ", where $\\rho = \\sqrt{3b^2 + a^2}$\n",
    "\\begin{align*}\n",
    "\\psi_5(a, b, \\alpha, \\beta, \\gamma_2, \\gamma_3) &= (3a, b, 0, -b, -3a, b, \\\\\n",
    "    -&\\lambda \\cos(\\alpha)\\cos(\\gamma_2) - \\lambda \\sin(\\alpha)\\cos(\\gamma_3), - \\lambda \\cos(\\alpha)\\sin(\\gamma_2) - \\lambda \\sin(\\alpha)\\sin(\\gamma_2), \\\\\n",
    "    &\\lambda \\cos(\\alpha)\\cos(\\gamma_2), \\lambda \\cos(\\alpha)\\sin(\\gamma_2), \\lambda \\sin(\\alpha)\\cos(\\gamma_3), \\lambda \\sin(\\alpha)\\sin(\\gamma_3))\n",
    "\\end{align*}"
   ]
  },
  {
   "cell_type": "markdown",
   "metadata": {},
   "source": [
    "We will implement $\\psi_3$ as `get_u3`:"
   ]
  },
  {
   "cell_type": "code",
   "execution_count": 2,
   "metadata": {},
   "outputs": [
    {
     "data": {
      "text/plain": [
       "get_u3 (generic function with 2 methods)"
      ]
     },
     "execution_count": 2,
     "metadata": {},
     "output_type": "execute_result"
    }
   ],
   "source": [
    "getRho2(x2, y2) = 1/(2*abs(y2)) + 2/sqrt(9*x2*x2 + y2*y2) - 0.5\n",
    "\n",
    "function get_u3(x2, y2, gamma, rho2 = Inf)\n",
    "    if rho2 == Inf\n",
    "        rho2 = getRho2(x2, y2)\n",
    "    end\n",
    "    rho = sqrt(rho2)\n",
    "    vx2 = rho * cos(gamma)\n",
    "    vy2 = rho * sin(gamma)/sqrt(3)\n",
    "    x1 = -2*x2\n",
    "    y1 = 0\n",
    "    vx1 = 0\n",
    "    vy1 = -2*vy2\n",
    "    \n",
    "    x3 = x2\n",
    "    y3 = -y2\n",
    "    vx3 = -vx2\n",
    "    vy3 = vy2\n",
    "    \n",
    "    return [3x2, y2, 0., -2y2, -3x2, y2, vx1, vy1, vx2, vy2, vx3, vy3, 0.0]\n",
    "end"
   ]
  },
  {
   "cell_type": "markdown",
   "metadata": {},
   "source": [
    "We will implement $\\psi_5$ as `get_u5`:"
   ]
  },
  {
   "cell_type": "code",
   "execution_count": 3,
   "metadata": {},
   "outputs": [
    {
     "data": {
      "text/plain": [
       "get_u5 (generic function with 2 methods)"
      ]
     },
     "execution_count": 3,
     "metadata": {},
     "output_type": "execute_result"
    }
   ],
   "source": [
    "function get_u5(x2, y2, alpha, gamma2, gamma3, rho2 = Inf)\n",
    "    if rho2 == Inf\n",
    "        rho2 = getRho2(x2, y2)\n",
    "    end\n",
    "    (sinalpha,cosalpha) = sincos(alpha)\n",
    "    (singamma2,cosgamma2) = sincos(gamma2)\n",
    "    (singamma3,cosgamma3) = sincos(gamma3)\n",
    "    \n",
    "    vx2aux = cosalpha*cosgamma2\n",
    "    vy2aux = cosalpha*singamma2\n",
    "    \n",
    "    vx3aux = sinalpha*cosgamma3\n",
    "    vy3aux = sinalpha*singamma3\n",
    "    \n",
    "    vx1aux = -vx2aux - vx3aux \n",
    "    vy1aux = -vy2aux - vy3aux\n",
    "    \n",
    "    lambda = sqrt(2 * rho2 / (1 +  vx1aux^2 + vy1aux^2))\n",
    "    vx1 = lambda*vx1aux\n",
    "    vy1 = lambda*vy1aux  \n",
    "    vx2 = lambda*vx2aux\n",
    "    vy2 = lambda*vy2aux  \n",
    "    vx3 = lambda*vx3aux \n",
    "    vy3 = lambda*vy3aux\n",
    "    return [3x2, y2, 0., -2y2, -3x2, y2, \n",
    "            vx1, vy1, vx2, vy2, vx3, vy3, 0.] \n",
    "end"
   ]
  },
  {
   "cell_type": "markdown",
   "metadata": {},
   "source": [
    "## Objective functions\n",
    "\n",
    "We will define multiple objective functions, each of which designed to find a specific kind of choreography. These objective functions will be composed of a \"trigger\" function $g$ and a \"callback\" function $h$.\n",
    "\n",
    "The objective functions are all of the following form:\n",
    "$$\n",
    "\\mathcal{F}(q) = \\min_{\\tau \\in G_q} h(q(\\tau))\n",
    "$$\n",
    "where\n",
    "$$\n",
    "G_q = \\{\\tau : g(q(\\tau)) = 0\\}\n",
    "$$\n",
    "\n",
    "The idea here is that our algorithm will evaluate $g$ throughout the curve $q$, and if at some point $q(\\tau)$ we have that the trigger function $g$ returns 0 it will mean that the bodies are in some sort of special configuration. Then, we evaluate $h$ on the points where $g$ returned 0 to determine its coreographyness. \n",
    "\n",
    "### Isosceles function\n",
    "\n",
    "The first trigger function that we will look at detects that the bodies form an isosceles configuration with $g$:\n",
    "\n",
    "$$\n",
    "g_{\\text{iso}}(u(\\tau)) = (q_{23} \\cdot q_{31} - q_{31} \\cdot q_{12})(q_{32} \\cdot q_{12} - q_{12} \\cdot q_{23})\n",
    "$$\n"
   ]
  },
  {
   "cell_type": "code",
   "execution_count": 4,
   "metadata": {},
   "outputs": [
    {
     "data": {
      "text/plain": [
       "g_iso (generic function with 1 method)"
      ]
     },
     "execution_count": 4,
     "metadata": {},
     "output_type": "execute_result"
    }
   ],
   "source": [
    "function g_iso(u, t, integrator)\n",
    "    dot12 = u[1]*u[3]+u[2]*u[4]\n",
    "    dot23 = u[3]*u[5]+u[4]*u[6]\n",
    "    dot31 = u[5]*u[1]+u[6]*u[2]\n",
    "    return (dot23-dot31)*(dot31-dot12)\n",
    "end"
   ]
  },
  {
   "cell_type": "markdown",
   "metadata": {},
   "source": [
    "Callback function $h_{\\text{iso}}$:\n",
    "\n",
    "\\begin{equation*}\n",
    "h_{\\text{iso}}(u(\\tau)) = \\left\\{\n",
    "        \\begin{array}{ll}\n",
    "            h_{\\text{iso2}}(u(\\tau)) & \\quad \\text{if} \\quad \\nu(u(\\tau)) \\geq 0 \\\\\n",
    "            h_{\\text{iso3}}(u(\\tau)) & \\quad \\text{else}\n",
    "        \\end{array}\n",
    "    \\right.\n",
    "\\end{equation*}\n",
    "\n",
    "where \n",
    "\n",
    "$$\n",
    "h_{\\text{iso2}}(u(\\tau)) = ((x_{23} - x_{12})\\dot x_{23} +(y_{23} - y_{12})\\dot y_{23})^2 + (\\left\\lVert\\dot q_{12}\\right\\rVert^2 - \\left\\lVert\\dot q_{31}\\right\\rVert^2)^2\n",
    "$$\n",
    "\n",
    "$$\n",
    "h_{\\text{iso3}}(u(\\tau)) = ((x_{31} - x_{23})\\dot x_{31} +(y_{31} - y_{23})\\dot y_{31})^2 + (\\left\\lVert\\dot q_{12}\\right\\rVert^2 - \\left\\lVert\\dot q_{23}\\right\\rVert^2)^2\n",
    "$$\n",
    "\n",
    "$$\n",
    "\\nu(u(\\tau)) = 2 (q_{31} \\cdot q_{12}) - q_{12} \\cdot q_{23} - q_{23} \\cdot q_{31}\n",
    "$$"
   ]
  },
  {
   "cell_type": "code",
   "execution_count": 8,
   "metadata": {},
   "outputs": [
    {
     "data": {
      "text/plain": [
       "h_iso (generic function with 1 method)"
      ]
     },
     "execution_count": 8,
     "metadata": {},
     "output_type": "execute_result"
    }
   ],
   "source": [
    "h_iso2(u) = ((u[3]-u[1])*u[9]+(u[4]-u[2])*u[10])^2 + (u[7]^2+u[8]^2-u[11]^2-u[12]^2)^2\n",
    "h_iso3(u) = ((u[5]-u[3])*u[11]+(u[6]-u[4])*u[12])^2 + (u[7]^2+u[8]^2-u[9]^2-u[10]^2)^2\n",
    "\n",
    "function h_iso(u, u0)\n",
    "    dot12 = u[1]*u[3]+u[2]*u[4]\n",
    "    dot23 = u[3]*u[5]+u[4]*u[6]\n",
    "    dot31 = u[5]*u[1]+u[6]*u[2]\n",
    "    return (dot23-dot31) <= abs(dot31-dot12) ? h_iso2(u) : h_iso3(u)\n",
    "end"
   ]
  },
  {
   "cell_type": "markdown",
   "metadata": {},
   "source": [
    "### Supersymmetry function\n",
    "$g_{\\text{col}}$ will detect collinear configurations, i. e. when all three bodies align."
   ]
  },
  {
   "cell_type": "code",
   "execution_count": 9,
   "metadata": {},
   "outputs": [
    {
     "data": {
      "text/plain": [
       "g_col (generic function with 1 method)"
      ]
     },
     "execution_count": 9,
     "metadata": {},
     "output_type": "execute_result"
    }
   ],
   "source": [
    "g_col(u, t, integrator) = u[1]*u[4]-u[2]*u[3]"
   ]
  },
  {
   "cell_type": "markdown",
   "metadata": {},
   "source": [
    "$h_{\\text{col}}$"
   ]
  },
  {
   "cell_type": "code",
   "execution_count": 10,
   "metadata": {},
   "outputs": [
    {
     "data": {
      "text/plain": [
       "h_col (generic function with 1 method)"
      ]
     },
     "execution_count": 10,
     "metadata": {},
     "output_type": "execute_result"
    }
   ],
   "source": [
    "h_col2(u) = (u[3]-u[1])^2 + (u[4]-u[2])^2 + (u[11]-u[7])^2 + (u[12]-u[8])^2\n",
    "h_col3(u) = (u[5]-u[3])^2 + (u[6]-u[4])^2 + (u[7]-u[9])^2 + (u[8]-u[10])^2\n",
    "\n",
    "h_col(u, u0) = abs(u[5]) >= abs(u[1]) ? h_col2(u) : h_col3(u)"
   ]
  },
  {
   "cell_type": "markdown",
   "metadata": {},
   "source": [
    "### Asymmetry function"
   ]
  },
  {
   "cell_type": "markdown",
   "metadata": {},
   "source": [
    "g"
   ]
  },
  {
   "cell_type": "code",
   "execution_count": 11,
   "metadata": {},
   "outputs": [
    {
     "data": {
      "text/plain": [
       "g_iso (generic function with 1 method)"
      ]
     },
     "execution_count": 11,
     "metadata": {},
     "output_type": "execute_result"
    }
   ],
   "source": [
    "g_asy = g_iso"
   ]
  },
  {
   "cell_type": "markdown",
   "metadata": {},
   "source": [
    "h"
   ]
  },
  {
   "cell_type": "code",
   "execution_count": 12,
   "metadata": {},
   "outputs": [
    {
     "data": {
      "text/plain": [
       "h_asy (generic function with 1 method)"
      ]
     },
     "execution_count": 12,
     "metadata": {},
     "output_type": "execute_result"
    }
   ],
   "source": [
    "c(ax, ay, bx, by) = (ax*bx+ay*by)^2/((ax^2+ay^2)*(bx^2+by^2))\n",
    "\n",
    "h_asy(u, u0) =  ((c(u[5], u[6], -u[3], -u[4]) - \n",
    "                c(u0[1], u0[2], -u0[5], -u0[6])))^2 + \n",
    "                ((c(u[1], u[2], -u[5], -u[6]) - \n",
    "                c(u0[3], u0[4], -u0[1], -u0[2])))^2 +  \n",
    "                ((c(u[3], u[4], -u[1], -u[2]) - \n",
    "                c(u0[5], u0[6], -u0[3], -u0[4])))^2 +  \n",
    "                (u[11]^2 + u[12]^2 - u0[7]^2 - u0[8]^2)^2 +\n",
    "                (u[7]^2 + u[8]^2 - u0[9]^2 - u0[10]^2)^2^2 +\n",
    "                (u[9]^2 + u[10]^2 - u0[11]^2 - u0[12]^2)^2"
   ]
  },
  {
   "cell_type": "markdown",
   "metadata": {},
   "source": [
    "## Indexing\n",
    "Brief explanation"
   ]
  },
  {
   "cell_type": "markdown",
   "metadata": {},
   "source": [
    "## Local search"
   ]
  },
  {
   "cell_type": "code",
   "execution_count": 86,
   "metadata": {},
   "outputs": [
    {
     "data": {
      "text/plain": [
       "evaluate (generic function with 2 methods)"
      ]
     },
     "execution_count": 86,
     "metadata": {},
     "output_type": "execute_result"
    }
   ],
   "source": [
    "function evaluate(u0, p, f, Tmin, Tmax, g, h, index=nothing)\n",
    "    # Get all t for which g(q(t)) = 0\n",
    "    tspan = (0,Tmax)\n",
    "    alg = Vern9()\n",
    "    prob = ODEProblem(f,u0,tspan,p)\n",
    "    cb = ContinuousCallback(\n",
    "        g,\n",
    "        integrator->nothing,\n",
    "        integrator->nothing,\n",
    "        save_positions = (true, false),\n",
    "        rootfind = true\n",
    "        )\n",
    "    \n",
    "    sol=solve(prob, alg, saveat=Tmax,\n",
    "              adaptive=false,dt=0.01,callback=cb)\n",
    "    \n",
    "    # If it is unindexed then return the argmin h(q(t))\n",
    "    if index == nothing\n",
    "        gpoints = [[t, u, h(u, u0)] for (t, u) in zip(sol.t, sol.u) if t > Tmin]\n",
    "        if length(gpoints) == 0\n",
    "            T_res, uT_res, gT_res = 0., u0, Inf\n",
    "        else\n",
    "            _, minind = findmin(map(first, gpoints))\n",
    "            T_res, uT_res, gT_res = gpoints[minind]\n",
    "        end\n",
    "    # If it is indexed then return corresponding h(q(t))\n",
    "    else\n",
    "        if length(sol.t) < index+1\n",
    "            T_res, uT_res, gT_res = 0., u0, Inf\n",
    "        elseif sol.t[index+1] < Tmin \n",
    "            T_res, uT_res, gT_res = 0., u0, Inf\n",
    "        else\n",
    "            T_res, uT_res, gT_res = sol.t[index+1], sol.u[index+1], h(sol.u[index+1], u0)\n",
    "        end\n",
    "    end\n",
    "    \n",
    "    return T_res, uT_res, gT_res\n",
    "end"
   ]
  },
  {
   "cell_type": "markdown",
   "metadata": {},
   "source": []
  },
  {
   "cell_type": "code",
   "execution_count": 97,
   "metadata": {},
   "outputs": [],
   "source": [
    "g = g_iso\n",
    "h = h_iso\n",
    "Tmin = 1.\n",
    "Tmax = 20.\n",
    "p = nothing\n",
    "odef = ThreeBodyODEGlobalTR!\n",
    "u0 = get_u3(1, 1, 1);"
   ]
  },
  {
   "cell_type": "code",
   "execution_count": 99,
   "metadata": {},
   "outputs": [
    {
     "data": {
      "text/plain": [
       "(20.0, [-0.1266967411614648, -3.705715308104575, -0.780216510565657, -1.664560727400334, 0.906913251727123, 5.370276035504908, -0.5440262244154597, -0.13936157145425335, 0.7425313618810393, -0.12868166740861917, -0.19850513746557766, 0.26804323886287396, 31.37982121054939], 0.6010524642551067)"
      ]
     },
     "execution_count": 99,
     "metadata": {},
     "output_type": "execute_result"
    }
   ],
   "source": [
    "evaluate(u0, p, odef, Tmin, Tmax, g, h)"
   ]
  },
  {
   "cell_type": "markdown",
   "metadata": {},
   "source": []
  },
  {
   "cell_type": "code",
   "execution_count": null,
   "metadata": {},
   "outputs": [],
   "source": [
    "function rand_u3(xa, xz, ya, yz, ca, cz)\n",
    "    x2 = rand()*(xa-xz)+xa\n",
    "    y2 = rand()*(ya-yz)+ya\n",
    "    c = rand()*(ca-cz)+ca\n",
    "    return [x2, y2, c]\n",
    "end\n",
    "\n",
    "function rand_u5(xa, xz, ya, yz, ca, cz)\n",
    "    #TODO\n",
    "end"
   ]
  },
  {
   "cell_type": "code",
   "execution_count": 108,
   "metadata": {},
   "outputs": [
    {
     "data": {
      "text/plain": [
       "objective_asy (generic function with 1 method)"
      ]
     },
     "execution_count": 108,
     "metadata": {},
     "output_type": "execute_result"
    }
   ],
   "source": [
    "function objective_iso(val)\n",
    "    rho2 = getRho2(val[1], val[2])\n",
    "    if rho2 < 0\n",
    "       return Inf\n",
    "    end\n",
    "    u0 = get_u(val[1], val[2], val[3], rho2)\n",
    "    T, uT, gT = evaluate(u0, p, odef, Tmin, Tmax, g_iso, h_iso) \n",
    "    return gT\n",
    "end\n",
    "\n",
    "function objective_col(val)\n",
    "    rho2 = getRho2(val[1], val[2])\n",
    "    if rho2 < 0\n",
    "       return Inf\n",
    "    end\n",
    "    u0 = get_u(val[1], val[2], val[3], rho2)\n",
    "    T, uT, gT = evaluate(u0, p, odef, Tmin, Tmax, g_col, h_col) \n",
    "    return gT\n",
    "end\n",
    "\n",
    "function objective_asy(val)\n",
    "    # TODO\n",
    "end"
   ]
  },
  {
   "cell_type": "code",
   "execution_count": 109,
   "metadata": {},
   "outputs": [
    {
     "ename": "LoadError",
     "evalue": "invalid redefinition of constant objective",
     "output_type": "error",
     "traceback": [
      "invalid redefinition of constant objective",
      "",
      "Stacktrace:",
      " [1] top-level scope at In[109]:1",
      " [2] include_string(::Function, ::Module, ::String, ::String) at ./loading.jl:1091"
     ]
    }
   ],
   "source": [
    "objective = objective_iso\n",
    "get_u = get_u3\n",
    "rand_u = rand_u3"
   ]
  },
  {
   "cell_type": "markdown",
   "metadata": {},
   "source": [
    "Aldatu hau"
   ]
  },
  {
   "cell_type": "code",
   "execution_count": 10,
   "metadata": {},
   "outputs": [
    {
     "ename": "LoadError",
     "evalue": "syntax: extra token \"exekutatu\" after end of expression",
     "output_type": "error",
     "traceback": [
      "syntax: extra token \"exekutatu\" after end of expression",
      "",
      "Stacktrace:",
      " [1] top-level scope at In[10]:1",
      " [2] include_string(::Function, ::Module, ::String, ::String) at ./loading.jl:1091"
     ]
    }
   ],
   "source": [
    "ez exekutatu\n",
    "\n",
    "[][1]\n",
    "\n",
    "try\n",
    "    cond = true\n",
    "    i = 1\n",
    "    while cond\n",
    "        x2 = rand()*(xmax-xmin)+xmin\n",
    "        y2 = rand()*(ymax-ymin)+ymin\n",
    "        gamma = rand()*(cmax-cmin)+cmin\n",
    "\n",
    "        balioak = [x2,y2,gamma]\n",
    "        #print(i, \": \", balioak, \"\\n\")\n",
    "\n",
    "        if objective(balioak) < Inf\n",
    "            result = nothing\n",
    "            try \n",
    "                result = optimize(helburu, balioak, NelderMead(), \n",
    "                              Optim.Options(g_tol = 1e-8, iterations = 256))\n",
    "            catch e\n",
    "                if isa(e, InterruptException)\n",
    "                    break\n",
    "                end\n",
    "                #print(\"Errorea\\n\")\n",
    "                continue\n",
    "            end\n",
    "            if result.minimum < min_g\n",
    "                minimizer = result.minimizer\n",
    "                berria_da = instert_undiscovered(koreografiak, minimizer, dist2)\n",
    "                if berria_da\n",
    "                    #print(\"Aurkituta: \", minimizer, \"\\n\")\n",
    "                    io = open(path, \"a\")\n",
    "                    for elem in minimizer\n",
    "                        write(io, elem)\n",
    "                    end\n",
    "                    close(io)\n",
    "                else\n",
    "                    #println(\"Errepikatuta.\")\n",
    "                end\n",
    "            end\n",
    "        end\n",
    "\n",
    "        i = i+1\n",
    "        cond = i <= maxiters && length(koreografiak) < maxlistsize\n",
    "    end\n",
    "    \n",
    "catch err\n",
    "    println(err)\n",
    "finally\n",
    "    println(\"Bilaketa amaituta.\")\n",
    "end"
   ]
  },
  {
   "cell_type": "markdown",
   "metadata": {},
   "source": []
  },
  {
   "cell_type": "code",
   "execution_count": 11,
   "metadata": {},
   "outputs": [
    {
     "ename": "LoadError",
     "evalue": "UndefVarError: koreografiak not defined",
     "output_type": "error",
     "traceback": [
      "UndefVarError: koreografiak not defined",
      "",
      "Stacktrace:",
      " [1] top-level scope at In[11]:1",
      " [2] include_string(::Function, ::Module, ::String, ::String) at ./loading.jl:1091"
     ]
    }
   ],
   "source": [
    "u0 = initialize(koreografiak[1]...)\n",
    "\n",
    "T, uT, gT = evaluate(u0, p, odef, Tmin, Tmax, g, h) \n",
    "visualize(u0, odef, p, 0., T, 256, 16)"
   ]
  },
  {
   "cell_type": "code",
   "execution_count": null,
   "metadata": {},
   "outputs": [],
   "source": []
  },
  {
   "cell_type": "code",
   "execution_count": null,
   "metadata": {},
   "outputs": [],
   "source": []
  }
 ],
 "metadata": {
  "kernelspec": {
   "display_name": "Julia 1.5.1",
   "language": "julia",
   "name": "julia-1.5"
  },
  "language_info": {
   "file_extension": ".jl",
   "mimetype": "application/julia",
   "name": "julia",
   "version": "1.5.1"
  }
 },
 "nbformat": 4,
 "nbformat_minor": 4
}
